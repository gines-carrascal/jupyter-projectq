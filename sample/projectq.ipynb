{
 "cells": [
  {
   "cell_type": "code",
   "execution_count": 5,
   "metadata": {},
   "outputs": [],
   "source": [
    "from projectq import MainEngine  # import the main compiler engine\n",
    "from projectq.ops import All, CNOT, NOT, H, Toffoli, Measure  # import the operations we want to perform \n",
    "from projectq.backends import CircuitDrawer"
   ]
  },
  {
   "cell_type": "code",
   "execution_count": 6,
   "metadata": {},
   "outputs": [
    {
     "name": "stdout",
     "output_type": "stream",
     "text": [
      "Primer sumando en binario (4 bits)0001\n",
      "Segundo sumando en binario(4 bits)0001\n"
     ]
    }
   ],
   "source": [
    "sumando_1 = input(\"Primer sumando en binario (4 bits)\")\n",
    "sumando_2 = input(\"Segundo sumando en binario(4 bits)\")"
   ]
  },
  {
   "cell_type": "code",
   "execution_count": 15,
   "metadata": {},
   "outputs": [
    {
     "name": "stdout",
     "output_type": "stream",
     "text": [
      "[0, 0, 0, 0]\n"
     ]
    }
   ],
   "source": [
    "n = 4\n",
    "\n",
    "backend = CircuitDrawer()\n",
    "#ResourceCounter()\n",
    "eng = MainEngine(backend)\n",
    "#eng = MainEngine()\n",
    "\n",
    "a = eng.allocate_qureg(n)\n",
    "b = eng.allocate_qureg(n+1)\n",
    "c = eng.allocate_qureg(n)\n",
    "\n",
    "for i in range(n):\n",
    "    if sumando_1[i] == \"1\":\n",
    "        NOT | (a[n - (i+1)])\n",
    "for i in range(n):\n",
    "    if sumando_2[i] == \"1\":\n",
    "        NOT | (b[n - (i+1)])\n",
    "        \n",
    "for i in range(n-1):\n",
    "    Toffoli | (a[i], b[i], c[i+1])\n",
    "    CNOT | (a[i], b[i])\n",
    "    Toffoli | (a[i], b[i], c[i+1])\n",
    "\n",
    "Toffoli | (a[n-1], b[n-1], b[n])\n",
    "CNOT | (a[n-1], b[n-1])\n",
    "Toffoli | (a[n-1], b[n-1], b[n])  \n",
    "\n",
    "CNOT | (c[n-1], b[n-1])\n",
    "\n",
    "for i in range(n-1):\n",
    "    Toffoli | (c[(n-2)-i], b[(n-2)-i], c[(n-1)-i])\n",
    "    CNOT | (a[(n-2)-i], b[(n-2)-i])\n",
    "    Toffoli | (a[(n-2)-i], b[(n-2)-i], c[(n-1)-i])\n",
    "    \n",
    "    CNOT | (c[(n-2)-i], b[(n-2)-i])\n",
    "    CNOT | (a[(n-2)-i], b[(n-2)-i])\n",
    "\n",
    "All(Measure) | b\n",
    "\n",
    "eng.flush()\n",
    "\n",
    "result = []\n",
    "for i in range(n):\n",
    "    result.append(int(b[i]))\n",
    "\n",
    "#my_backend = Aer.get_backend(\"qasm_simulator\")  \n",
    "#job = execute(qc, my_backend, shots=20)\n",
    "#job_stats = job.result().get_counts()\n",
    "print(result)\n",
    "#print(qc)\n",
    "#print(backend.get_latex()) \n",
    "    \n",
    "    "
   ]
  },
  {
   "cell_type": "code",
   "execution_count": 19,
   "metadata": {},
   "outputs": [
    {
     "data": {
      "text/plain": [
       "'\\\\documentclass{standalone}\\n\\\\usepackage[margin=1in]{geometry}\\n\\\\usepackage[hang,small,bf]{caption}\\n\\\\usepackage{tikz}\\n\\\\usepackage{braket}\\n\\\\usetikzlibrary{backgrounds,shadows.blur,fit,decorations.pathreplacing,shapes}\\n\\n\\\\begin{document}\\n\\\\begin{tikzpicture}[scale=0.8, transform shape]\\n\\n\\\\tikzstyle{basicshadow}=[blur shadow={shadow blur steps=8, shadow xshift=0.7pt, shadow yshift=-0.7pt, shadow scale=1.02}]\\\\tikzstyle{basic}=[draw,fill=white,basicshadow]\\n\\\\tikzstyle{operator}=[basic,minimum size=1.5em]\\n\\\\tikzstyle{phase}=[fill=black,shape=circle,minimum size=0.1cm,inner sep=0pt,outer sep=0pt,draw=black]\\n\\\\tikzstyle{none}=[inner sep=0pt,outer sep=-.5pt,minimum height=0.5cm+1pt]\\n\\\\tikzstyle{measure}=[operator,inner sep=0pt,minimum height=0.5cm, minimum width=0.75cm]\\n\\\\tikzstyle{xstyle}=[circle,basic,minimum height=0.35cm,minimum width=0.35cm,inner sep=-1pt,very thin]\\n\\\\tikzset{\\nshadowed/.style={preaction={transform canvas={shift={(0.5pt,-0.5pt)}}, draw=gray, opacity=0.4}},\\n}\\n\\\\tikzstyle{swapstyle}=[inner sep=-1pt, outer sep=-1pt, minimum width=0pt]\\n\\\\tikzstyle{edgestyle}=[very thin]\\n\\n\\\\node[none] (line0_gate0) at (0.1,-0) {$\\\\Ket{0}$};\\n\\\\node[xstyle] (line0_gate1) at (0.5,-0) {};\\n\\\\draw[edgestyle] (line0_gate1.north)--(line0_gate1.south);\\n\\\\draw[edgestyle] (line0_gate1.west)--(line0_gate1.east);\\n\\\\draw (line0_gate0) edge[edgestyle] (line0_gate1);\\n\\\\node[none] (line10_gate0) at (0.1,-10) {$\\\\Ket{0}$};\\n\\\\node[none] (line4_gate0) at (0.1,-4) {$\\\\Ket{0}$};\\n\\\\node[xstyle] (line4_gate1) at (0.5,-4) {};\\n\\\\draw[edgestyle] (line4_gate1.north)--(line4_gate1.south);\\n\\\\draw[edgestyle] (line4_gate1.west)--(line4_gate1.east);\\n\\\\draw (line4_gate0) edge[edgestyle] (line4_gate1);\\n\\\\node[xstyle] (line10_gate1) at (1.05,-10) {};\\n\\\\draw[edgestyle] (line10_gate1.north)--(line10_gate1.south);\\n\\\\draw[edgestyle] (line10_gate1.west)--(line10_gate1.east);\\n\\\\node[phase] (line0_gate2) at (1.05,-0) {};\\n\\\\draw (line0_gate2) edge[edgestyle] (line10_gate1);\\n\\\\node[phase] (line4_gate2) at (1.05,-4) {};\\n\\\\draw (line4_gate2) edge[edgestyle] (line10_gate1);\\n\\\\draw (line10_gate0) edge[edgestyle] (line10_gate1);\\n\\\\draw (line0_gate1) edge[edgestyle] (line0_gate2);\\n\\\\draw (line4_gate1) edge[edgestyle] (line4_gate2);\\n\\\\node[xstyle] (line4_gate3) at (1.6,-4) {};\\n\\\\draw[edgestyle] (line4_gate3.north)--(line4_gate3.south);\\n\\\\draw[edgestyle] (line4_gate3.west)--(line4_gate3.east);\\n\\\\node[phase] (line0_gate3) at (1.6,-0) {};\\n\\\\draw (line0_gate3) edge[edgestyle] (line4_gate3);\\n\\\\draw (line4_gate2) edge[edgestyle] (line4_gate3);\\n\\\\draw (line0_gate2) edge[edgestyle] (line0_gate3);\\n\\\\node[xstyle] (line10_gate2) at (2.1500000000000004,-10) {};\\n\\\\draw[edgestyle] (line10_gate2.north)--(line10_gate2.south);\\n\\\\draw[edgestyle] (line10_gate2.west)--(line10_gate2.east);\\n\\\\node[phase] (line0_gate4) at (2.1500000000000004,-0) {};\\n\\\\draw (line0_gate4) edge[edgestyle] (line10_gate2);\\n\\\\node[phase] (line4_gate4) at (2.1500000000000004,-4) {};\\n\\\\draw (line4_gate4) edge[edgestyle] (line10_gate2);\\n\\\\draw (line10_gate1) edge[edgestyle] (line10_gate2);\\n\\\\draw (line0_gate3) edge[edgestyle] (line0_gate4);\\n\\\\draw (line4_gate3) edge[edgestyle] (line4_gate4);\\n\\\\node[none] (line11_gate0) at (0.1,-11) {$\\\\Ket{0}$};\\n\\\\node[none] (line1_gate0) at (2.7000000000000006,-1) {$\\\\Ket{0}$};\\n\\\\node[none] (line5_gate0) at (2.7000000000000006,-5) {$\\\\Ket{0}$};\\n\\\\node[xstyle] (line11_gate1) at (3.100000000000001,-11) {};\\n\\\\draw[edgestyle] (line11_gate1.north)--(line11_gate1.south);\\n\\\\draw[edgestyle] (line11_gate1.west)--(line11_gate1.east);\\n\\\\node[phase] (line1_gate1) at (3.100000000000001,-1) {};\\n\\\\draw (line1_gate1) edge[edgestyle] (line11_gate1);\\n\\\\node[phase] (line5_gate1) at (3.100000000000001,-5) {};\\n\\\\draw (line5_gate1) edge[edgestyle] (line11_gate1);\\n\\\\draw (line11_gate0) edge[edgestyle] (line11_gate1);\\n\\\\draw (line1_gate0) edge[edgestyle] (line1_gate1);\\n\\\\draw (line5_gate0) edge[edgestyle] (line5_gate1);\\n\\\\node[xstyle] (line5_gate2) at (3.6500000000000012,-5) {};\\n\\\\draw[edgestyle] (line5_gate2.north)--(line5_gate2.south);\\n\\\\draw[edgestyle] (line5_gate2.west)--(line5_gate2.east);\\n\\\\node[phase] (line1_gate2) at (3.6500000000000012,-1) {};\\n\\\\draw (line1_gate2) edge[edgestyle] (line5_gate2);\\n\\\\draw (line5_gate1) edge[edgestyle] (line5_gate2);\\n\\\\draw (line1_gate1) edge[edgestyle] (line1_gate2);\\n\\\\node[xstyle] (line11_gate2) at (4.200000000000001,-11) {};\\n\\\\draw[edgestyle] (line11_gate2.north)--(line11_gate2.south);\\n\\\\draw[edgestyle] (line11_gate2.west)--(line11_gate2.east);\\n\\\\node[phase] (line1_gate3) at (4.200000000000001,-1) {};\\n\\\\draw (line1_gate3) edge[edgestyle] (line11_gate2);\\n\\\\node[phase] (line5_gate3) at (4.200000000000001,-5) {};\\n\\\\draw (line5_gate3) edge[edgestyle] (line11_gate2);\\n\\\\draw (line11_gate1) edge[edgestyle] (line11_gate2);\\n\\\\draw (line1_gate2) edge[edgestyle] (line1_gate3);\\n\\\\draw (line5_gate2) edge[edgestyle] (line5_gate3);\\n\\\\node[none] (line12_gate0) at (0.1,-12) {$\\\\Ket{0}$};\\n\\\\node[none] (line2_gate0) at (4.75,-2) {$\\\\Ket{0}$};\\n\\\\node[none] (line6_gate0) at (4.75,-6) {$\\\\Ket{0}$};\\n\\\\node[xstyle] (line12_gate1) at (5.1499999999999995,-12) {};\\n\\\\draw[edgestyle] (line12_gate1.north)--(line12_gate1.south);\\n\\\\draw[edgestyle] (line12_gate1.west)--(line12_gate1.east);\\n\\\\node[phase] (line2_gate1) at (5.1499999999999995,-2) {};\\n\\\\draw (line2_gate1) edge[edgestyle] (line12_gate1);\\n\\\\node[phase] (line6_gate1) at (5.1499999999999995,-6) {};\\n\\\\draw (line6_gate1) edge[edgestyle] (line12_gate1);\\n\\\\draw (line12_gate0) edge[edgestyle] (line12_gate1);\\n\\\\draw (line2_gate0) edge[edgestyle] (line2_gate1);\\n\\\\draw (line6_gate0) edge[edgestyle] (line6_gate1);\\n\\\\node[xstyle] (line6_gate2) at (5.699999999999998,-6) {};\\n\\\\draw[edgestyle] (line6_gate2.north)--(line6_gate2.south);\\n\\\\draw[edgestyle] (line6_gate2.west)--(line6_gate2.east);\\n\\\\node[phase] (line2_gate2) at (5.699999999999998,-2) {};\\n\\\\draw (line2_gate2) edge[edgestyle] (line6_gate2);\\n\\\\draw (line6_gate1) edge[edgestyle] (line6_gate2);\\n\\\\draw (line2_gate1) edge[edgestyle] (line2_gate2);\\n\\\\node[xstyle] (line12_gate2) at (6.249999999999997,-12) {};\\n\\\\draw[edgestyle] (line12_gate2.north)--(line12_gate2.south);\\n\\\\draw[edgestyle] (line12_gate2.west)--(line12_gate2.east);\\n\\\\node[phase] (line2_gate3) at (6.249999999999997,-2) {};\\n\\\\draw (line2_gate3) edge[edgestyle] (line12_gate2);\\n\\\\node[phase] (line6_gate3) at (6.249999999999997,-6) {};\\n\\\\draw (line6_gate3) edge[edgestyle] (line12_gate2);\\n\\\\draw (line12_gate1) edge[edgestyle] (line12_gate2);\\n\\\\draw (line2_gate2) edge[edgestyle] (line2_gate3);\\n\\\\draw (line6_gate2) edge[edgestyle] (line6_gate3);\\n\\\\node[none] (line7_gate0) at (6.799999999999996,-7) {$\\\\Ket{0}$};\\n\\\\node[none] (line8_gate0) at (6.799999999999996,-8) {$\\\\Ket{0}$};\\n\\\\node[none] (line3_gate0) at (6.799999999999996,-3) {$\\\\Ket{0}$};\\n\\\\node[xstyle] (line8_gate1) at (7.199999999999996,-8) {};\\n\\\\draw[edgestyle] (line8_gate1.north)--(line8_gate1.south);\\n\\\\draw[edgestyle] (line8_gate1.west)--(line8_gate1.east);\\n\\\\node[phase] (line3_gate1) at (7.199999999999996,-3) {};\\n\\\\draw (line3_gate1) edge[edgestyle] (line8_gate1);\\n\\\\node[phase] (line7_gate1) at (7.199999999999996,-7) {};\\n\\\\draw (line7_gate1) edge[edgestyle] (line8_gate1);\\n\\\\draw (line8_gate0) edge[edgestyle] (line8_gate1);\\n\\\\draw (line3_gate0) edge[edgestyle] (line3_gate1);\\n\\\\draw (line7_gate0) edge[edgestyle] (line7_gate1);\\n\\\\node[xstyle] (line7_gate2) at (7.749999999999995,-7) {};\\n\\\\draw[edgestyle] (line7_gate2.north)--(line7_gate2.south);\\n\\\\draw[edgestyle] (line7_gate2.west)--(line7_gate2.east);\\n\\\\node[phase] (line3_gate2) at (7.749999999999995,-3) {};\\n\\\\draw (line3_gate2) edge[edgestyle] (line7_gate2);\\n\\\\draw (line7_gate1) edge[edgestyle] (line7_gate2);\\n\\\\draw (line3_gate1) edge[edgestyle] (line3_gate2);\\n\\\\node[xstyle] (line8_gate2) at (8.299999999999994,-8) {};\\n\\\\draw[edgestyle] (line8_gate2.north)--(line8_gate2.south);\\n\\\\draw[edgestyle] (line8_gate2.west)--(line8_gate2.east);\\n\\\\node[phase] (line3_gate3) at (8.299999999999994,-3) {};\\n\\\\draw (line3_gate3) edge[edgestyle] (line8_gate2);\\n\\\\node[phase] (line7_gate3) at (8.299999999999994,-7) {};\\n\\\\draw (line7_gate3) edge[edgestyle] (line8_gate2);\\n\\\\draw (line8_gate1) edge[edgestyle] (line8_gate2);\\n\\\\draw (line3_gate2) edge[edgestyle] (line3_gate3);\\n\\\\draw (line7_gate2) edge[edgestyle] (line7_gate3);\\n\\\\node[xstyle] (line7_gate4) at (8.849999999999993,-7) {};\\n\\\\draw[edgestyle] (line7_gate4.north)--(line7_gate4.south);\\n\\\\draw[edgestyle] (line7_gate4.west)--(line7_gate4.east);\\n\\\\node[phase] (line12_gate3) at (8.849999999999993,-12) {};\\n\\\\draw (line12_gate3) edge[edgestyle] (line7_gate4);\\n\\\\draw (line7_gate3) edge[edgestyle] (line7_gate4);\\n\\\\draw (line12_gate2) edge[edgestyle] (line12_gate3);\\n\\\\node[xstyle] (line12_gate4) at (9.399999999999991,-12) {};\\n\\\\draw[edgestyle] (line12_gate4.north)--(line12_gate4.south);\\n\\\\draw[edgestyle] (line12_gate4.west)--(line12_gate4.east);\\n\\\\node[phase] (line6_gate4) at (9.399999999999991,-6) {};\\n\\\\draw (line6_gate4) edge[edgestyle] (line12_gate4);\\n\\\\node[phase] (line11_gate3) at (9.399999999999991,-11) {};\\n\\\\draw (line11_gate3) edge[edgestyle] (line12_gate4);\\n\\\\draw (line12_gate3) edge[edgestyle] (line12_gate4);\\n\\\\draw (line6_gate3) edge[edgestyle] (line6_gate4);\\n\\\\draw (line11_gate2) edge[edgestyle] (line11_gate3);\\n\\\\node[xstyle] (line6_gate5) at (9.94999999999999,-6) {};\\n\\\\draw[edgestyle] (line6_gate5.north)--(line6_gate5.south);\\n\\\\draw[edgestyle] (line6_gate5.west)--(line6_gate5.east);\\n\\\\node[phase] (line2_gate4) at (9.94999999999999,-2) {};\\n\\\\draw (line2_gate4) edge[edgestyle] (line6_gate5);\\n\\\\draw (line6_gate4) edge[edgestyle] (line6_gate5);\\n\\\\draw (line2_gate3) edge[edgestyle] (line2_gate4);\\n\\\\node[xstyle] (line12_gate5) at (10.49999999999999,-12) {};\\n\\\\draw[edgestyle] (line12_gate5.north)--(line12_gate5.south);\\n\\\\draw[edgestyle] (line12_gate5.west)--(line12_gate5.east);\\n\\\\node[phase] (line2_gate5) at (10.49999999999999,-2) {};\\n\\\\draw (line2_gate5) edge[edgestyle] (line12_gate5);\\n\\\\node[phase] (line6_gate6) at (10.49999999999999,-6) {};\\n\\\\draw (line6_gate6) edge[edgestyle] (line12_gate5);\\n\\\\draw (line12_gate4) edge[edgestyle] (line12_gate5);\\n\\\\draw (line2_gate4) edge[edgestyle] (line2_gate5);\\n\\\\draw (line6_gate5) edge[edgestyle] (line6_gate6);\\n\\\\node[xstyle] (line6_gate7) at (11.049999999999988,-6) {};\\n\\\\draw[edgestyle] (line6_gate7.north)--(line6_gate7.south);\\n\\\\draw[edgestyle] (line6_gate7.west)--(line6_gate7.east);\\n\\\\node[phase] (line11_gate4) at (11.049999999999988,-11) {};\\n\\\\draw (line11_gate4) edge[edgestyle] (line6_gate7);\\n\\\\draw (line6_gate6) edge[edgestyle] (line6_gate7);\\n\\\\draw (line11_gate3) edge[edgestyle] (line11_gate4);\\n\\\\node[xstyle] (line11_gate5) at (11.599999999999987,-11) {};\\n\\\\draw[edgestyle] (line11_gate5.north)--(line11_gate5.south);\\n\\\\draw[edgestyle] (line11_gate5.west)--(line11_gate5.east);\\n\\\\node[phase] (line5_gate4) at (11.599999999999987,-5) {};\\n\\\\draw (line5_gate4) edge[edgestyle] (line11_gate5);\\n\\\\node[phase] (line10_gate3) at (11.599999999999987,-10) {};\\n\\\\draw (line10_gate3) edge[edgestyle] (line11_gate5);\\n\\\\draw (line11_gate4) edge[edgestyle] (line11_gate5);\\n\\\\draw (line5_gate3) edge[edgestyle] (line5_gate4);\\n\\\\draw (line10_gate2) edge[edgestyle] (line10_gate3);\\n\\\\node[xstyle] (line5_gate5) at (12.149999999999986,-5) {};\\n\\\\draw[edgestyle] (line5_gate5.north)--(line5_gate5.south);\\n\\\\draw[edgestyle] (line5_gate5.west)--(line5_gate5.east);\\n\\\\node[phase] (line1_gate4) at (12.149999999999986,-1) {};\\n\\\\draw (line1_gate4) edge[edgestyle] (line5_gate5);\\n\\\\draw (line5_gate4) edge[edgestyle] (line5_gate5);\\n\\\\draw (line1_gate3) edge[edgestyle] (line1_gate4);\\n\\\\node[xstyle] (line11_gate6) at (12.699999999999985,-11) {};\\n\\\\draw[edgestyle] (line11_gate6.north)--(line11_gate6.south);\\n\\\\draw[edgestyle] (line11_gate6.west)--(line11_gate6.east);\\n\\\\node[phase] (line1_gate5) at (12.699999999999985,-1) {};\\n\\\\draw (line1_gate5) edge[edgestyle] (line11_gate6);\\n\\\\node[phase] (line5_gate6) at (12.699999999999985,-5) {};\\n\\\\draw (line5_gate6) edge[edgestyle] (line11_gate6);\\n\\\\draw (line11_gate5) edge[edgestyle] (line11_gate6);\\n\\\\draw (line1_gate4) edge[edgestyle] (line1_gate5);\\n\\\\draw (line5_gate5) edge[edgestyle] (line5_gate6);\\n\\\\node[xstyle] (line5_gate7) at (13.249999999999984,-5) {};\\n\\\\draw[edgestyle] (line5_gate7.north)--(line5_gate7.south);\\n\\\\draw[edgestyle] (line5_gate7.west)--(line5_gate7.east);\\n\\\\node[phase] (line10_gate4) at (13.249999999999984,-10) {};\\n\\\\draw (line10_gate4) edge[edgestyle] (line5_gate7);\\n\\\\draw (line5_gate6) edge[edgestyle] (line5_gate7);\\n\\\\draw (line10_gate3) edge[edgestyle] (line10_gate4);\\n\\\\node[none] (line9_gate0) at (13.799999999999983,-9) {$\\\\Ket{0}$};\\n\\\\node[xstyle] (line10_gate5) at (14.199999999999982,-10) {};\\n\\\\draw[edgestyle] (line10_gate5.north)--(line10_gate5.south);\\n\\\\draw[edgestyle] (line10_gate5.west)--(line10_gate5.east);\\n\\\\node[phase] (line4_gate5) at (14.199999999999982,-4) {};\\n\\\\draw (line4_gate5) edge[edgestyle] (line10_gate5);\\n\\\\node[phase] (line9_gate1) at (14.199999999999982,-9) {};\\n\\\\draw (line9_gate1) edge[edgestyle] (line10_gate5);\\n\\\\draw (line10_gate4) edge[edgestyle] (line10_gate5);\\n\\\\draw (line4_gate4) edge[edgestyle] (line4_gate5);\\n\\\\draw (line9_gate0) edge[edgestyle] (line9_gate1);\\n\\\\node[xstyle] (line4_gate6) at (14.74999999999998,-4) {};\\n\\\\draw[edgestyle] (line4_gate6.north)--(line4_gate6.south);\\n\\\\draw[edgestyle] (line4_gate6.west)--(line4_gate6.east);\\n\\\\node[phase] (line0_gate5) at (14.74999999999998,-0) {};\\n\\\\draw (line0_gate5) edge[edgestyle] (line4_gate6);\\n\\\\draw (line4_gate5) edge[edgestyle] (line4_gate6);\\n\\\\draw (line0_gate4) edge[edgestyle] (line0_gate5);\\n\\\\node[xstyle] (line10_gate6) at (15.29999999999998,-10) {};\\n\\\\draw[edgestyle] (line10_gate6.north)--(line10_gate6.south);\\n\\\\draw[edgestyle] (line10_gate6.west)--(line10_gate6.east);\\n\\\\node[phase] (line0_gate6) at (15.29999999999998,-0) {};\\n\\\\draw (line0_gate6) edge[edgestyle] (line10_gate6);\\n\\\\node[phase] (line4_gate7) at (15.29999999999998,-4) {};\\n\\\\draw (line4_gate7) edge[edgestyle] (line10_gate6);\\n\\\\draw (line10_gate5) edge[edgestyle] (line10_gate6);\\n\\\\draw (line0_gate5) edge[edgestyle] (line0_gate6);\\n\\\\draw (line4_gate6) edge[edgestyle] (line4_gate7);\\n\\\\node[xstyle] (line4_gate8) at (15.849999999999978,-4) {};\\n\\\\draw[edgestyle] (line4_gate8.north)--(line4_gate8.south);\\n\\\\draw[edgestyle] (line4_gate8.west)--(line4_gate8.east);\\n\\\\node[phase] (line9_gate2) at (15.849999999999978,-9) {};\\n\\\\draw (line9_gate2) edge[edgestyle] (line4_gate8);\\n\\\\draw (line4_gate7) edge[edgestyle] (line4_gate8);\\n\\\\draw (line9_gate1) edge[edgestyle] (line9_gate2);\\n\\\\node[xstyle] (line4_gate9) at (16.39999999999998,-4) {};\\n\\\\draw[edgestyle] (line4_gate9.north)--(line4_gate9.south);\\n\\\\draw[edgestyle] (line4_gate9.west)--(line4_gate9.east);\\n\\\\node[phase] (line0_gate7) at (16.39999999999998,-0) {};\\n\\\\draw (line0_gate7) edge[edgestyle] (line4_gate9);\\n\\\\draw (line4_gate8) edge[edgestyle] (line4_gate9);\\n\\\\draw (line0_gate6) edge[edgestyle] (line0_gate7);\\n\\\\node[xstyle] (line5_gate8) at (16.949999999999985,-5) {};\\n\\\\draw[edgestyle] (line5_gate8.north)--(line5_gate8.south);\\n\\\\draw[edgestyle] (line5_gate8.west)--(line5_gate8.east);\\n\\\\node[phase] (line1_gate6) at (16.949999999999985,-1) {};\\n\\\\draw (line1_gate6) edge[edgestyle] (line5_gate8);\\n\\\\draw (line5_gate7) edge[edgestyle] (line5_gate8);\\n\\\\draw (line1_gate5) edge[edgestyle] (line1_gate6);\\n\\\\node[xstyle] (line6_gate8) at (17.49999999999999,-6) {};\\n\\\\draw[edgestyle] (line6_gate8.north)--(line6_gate8.south);\\n\\\\draw[edgestyle] (line6_gate8.west)--(line6_gate8.east);\\n\\\\node[phase] (line2_gate6) at (17.49999999999999,-2) {};\\n\\\\draw (line2_gate6) edge[edgestyle] (line6_gate8);\\n\\\\draw (line6_gate7) edge[edgestyle] (line6_gate8);\\n\\\\draw (line2_gate5) edge[edgestyle] (line2_gate6);\\n\\\\node[measure,edgestyle] (line4_gate10) at (18.14999999999999,-4) {};\\n\\\\draw[edgestyle] ([yshift=-0.18cm,xshift=0.07500000000000001cm]line4_gate10.west) to [out=60,in=180] ([yshift=0.035cm]line4_gate10.center) to [out=0, in=120] ([yshift=-0.18cm,xshift=-0.07500000000000001cm]line4_gate10.east);\\n\\\\draw[edgestyle] ([yshift=-0.18cm]line4_gate10.center) to ([yshift=-0.07500000000000001cm,xshift=-0.18cm]line4_gate10.north east);\\n\\\\draw (line4_gate9) edge[edgestyle] (line4_gate10);\\n\\\\node[measure,edgestyle] (line5_gate9) at (18.14999999999999,-5) {};\\n\\\\draw[edgestyle] ([yshift=-0.18cm,xshift=0.07500000000000001cm]line5_gate9.west) to [out=60,in=180] ([yshift=0.035cm]line5_gate9.center) to [out=0, in=120] ([yshift=-0.18cm,xshift=-0.07500000000000001cm]line5_gate9.east);\\n\\\\draw[edgestyle] ([yshift=-0.18cm]line5_gate9.center) to ([yshift=-0.07500000000000001cm,xshift=-0.18cm]line5_gate9.north east);\\n\\\\draw (line5_gate8) edge[edgestyle] (line5_gate9);\\n\\\\node[measure,edgestyle] (line6_gate9) at (18.14999999999999,-6) {};\\n\\\\draw[edgestyle] ([yshift=-0.18cm,xshift=0.07500000000000001cm]line6_gate9.west) to [out=60,in=180] ([yshift=0.035cm]line6_gate9.center) to [out=0, in=120] ([yshift=-0.18cm,xshift=-0.07500000000000001cm]line6_gate9.east);\\n\\\\draw[edgestyle] ([yshift=-0.18cm]line6_gate9.center) to ([yshift=-0.07500000000000001cm,xshift=-0.18cm]line6_gate9.north east);\\n\\\\draw (line6_gate8) edge[edgestyle] (line6_gate9);\\n\\\\node[measure,edgestyle] (line7_gate5) at (16.49999999999998,-7) {};\\n\\\\draw[edgestyle] ([yshift=-0.18cm,xshift=0.07500000000000001cm]line7_gate5.west) to [out=60,in=180] ([yshift=0.035cm]line7_gate5.center) to [out=0, in=120] ([yshift=-0.18cm,xshift=-0.07500000000000001cm]line7_gate5.east);\\n\\\\draw[edgestyle] ([yshift=-0.18cm]line7_gate5.center) to ([yshift=-0.07500000000000001cm,xshift=-0.18cm]line7_gate5.north east);\\n\\\\draw (line7_gate4) edge[edgestyle] (line7_gate5);\\n\\\\node[measure,edgestyle] (line8_gate3) at (16.49999999999998,-8) {};\\n\\\\draw[edgestyle] ([yshift=-0.18cm,xshift=0.07500000000000001cm]line8_gate3.west) to [out=60,in=180] ([yshift=0.035cm]line8_gate3.center) to [out=0, in=120] ([yshift=-0.18cm,xshift=-0.07500000000000001cm]line8_gate3.east);\\n\\\\draw[edgestyle] ([yshift=-0.18cm]line8_gate3.center) to ([yshift=-0.07500000000000001cm,xshift=-0.18cm]line8_gate3.north east);\\n\\\\draw (line8_gate2) edge[edgestyle] (line8_gate3);\\n\\n\\\\end{tikzpicture}\\n\\\\end{document}'"
      ]
     },
     "execution_count": 19,
     "metadata": {},
     "output_type": "execute_result"
    }
   ],
   "source": [
    "\n",
    "backend.get_latex()\n"
   ]
  },
  {
   "cell_type": "code",
   "execution_count": 20,
   "metadata": {},
   "outputs": [],
   "source": [
    "def get_adder(n, sumando_1, sumando_2):\n",
    "    eng = MainEngine()\n",
    "\n",
    "    a = eng.allocate_qureg(n)\n",
    "    b = eng.allocate_qureg(n+1)\n",
    "    c = eng.allocate_qureg(n)\n",
    "\n",
    "    for i in range(n):\n",
    "        if sumando_1[i] == \"1\":\n",
    "            NOT | (a[n - (i+1)])\n",
    "    for i in range(n):\n",
    "        if sumando_2[i] == \"1\":\n",
    "            NOT | (b[n - (i+1)])\n",
    "\n",
    "    for i in range(n-1):\n",
    "        Toffoli | (a[i], b[i], c[i+1])\n",
    "        CNOT | (a[i], b[i])\n",
    "        Toffoli | (a[i], b[i], c[i+1])\n",
    "\n",
    "    Toffoli | (a[n-1], b[n-1], b[n])\n",
    "    CNOT | (a[n-1], b[n-1])\n",
    "    Toffoli | (a[n-1], b[n-1], b[n])  \n",
    "\n",
    "    CNOT | (c[n-1], b[n-1])\n",
    "\n",
    "    for i in range(n-1):\n",
    "        Toffoli | (c[(n-2)-i], b[(n-2)-i], c[(n-1)-i])\n",
    "        CNOT | (a[(n-2)-i], b[(n-2)-i])\n",
    "        Toffoli | (a[(n-2)-i], b[(n-2)-i], c[(n-1)-i])\n",
    "\n",
    "        CNOT | (c[(n-2)-i], b[(n-2)-i])\n",
    "        CNOT | (a[(n-2)-i], b[(n-2)-i])\n",
    "\n",
    "    All(Measure) | b\n",
    "\n",
    "    return eng\n",
    "\n",
    "def simulate(circuit):\n",
    "    circuit.flush()\n",
    "\n",
    "    result = []\n",
    "    for i in range(n):\n",
    "        result.append(int(b[i]))\n",
    "    \n",
    "    return result\n",
    "    "
   ]
  },
  {
   "cell_type": "code",
   "execution_count": 21,
   "metadata": {},
   "outputs": [
    {
     "name": "stdout",
     "output_type": "stream",
     "text": [
      "1 0.0022730000000592554\n",
      "2 0.0020450000010896474\n",
      "3 0.0022564000009879237\n",
      "4 0.0018098000000463799\n",
      "5 0.0021084999989398057\n",
      "6 0.001689799999439856\n",
      "7 0.003349099999468308\n",
      "8 0.0019701999990502372\n",
      "[0.0022730000000592554, 0.0020450000010896474, 0.0022564000009879237, 0.0018098000000463799, 0.0021084999989398057, 0.001689799999439856, 0.003349099999468308, 0.0019701999990502372]\n"
     ]
    }
   ],
   "source": [
    "import timeit\n",
    "\n",
    "times=[]\n",
    "for i in range(1,9):\n",
    "    s = f\"\"\"\\\n",
    "from __main__ import get_adder\n",
    "from __main__ import simulate\n",
    "\n",
    "circuit = get_adder({i},\"{\"0\"*i}1\",\"{\"0\"*i}1\") \n",
    "\"\"\"\n",
    "    times.append(timeit.timeit('simulate(circuit)', setup=s, number=100))\n",
    "    print(i,times[-1])\n",
    "\n",
    "print(times)"
   ]
  },
  {
   "cell_type": "code",
   "execution_count": null,
   "metadata": {},
   "outputs": [],
   "source": []
  }
 ],
 "metadata": {
  "kernelspec": {
   "display_name": "Python 3",
   "language": "python",
   "name": "python3"
  },
  "language_info": {
   "codemirror_mode": {
    "name": "ipython",
    "version": 3
   },
   "file_extension": ".py",
   "mimetype": "text/x-python",
   "name": "python",
   "nbconvert_exporter": "python",
   "pygments_lexer": "ipython3",
   "version": "3.7.4"
  }
 },
 "nbformat": 4,
 "nbformat_minor": 4
}
