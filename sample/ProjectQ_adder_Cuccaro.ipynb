{
 "cells": [
  {
   "cell_type": "code",
   "execution_count": 5,
   "metadata": {},
   "outputs": [],
   "source": [
    "from projectq import MainEngine  # import the main compiler engine\n",
    "from projectq.ops import All, CNOT, NOT, H, Toffoli, Measure  # import the operations we want to perform \n",
    "from projectq.backends import CircuitDrawer"
   ]
  },
  {
   "cell_type": "code",
   "execution_count": 6,
   "metadata": {},
   "outputs": [
    {
     "name": "stdout",
     "output_type": "stream",
     "text": [
      "Primer sumando en binario (4 bits)0001\n",
      "Segundo sumando en binario(4 bits)0001\n"
     ]
    }
   ],
   "source": [
    "sumando_1 = input(\"Primer sumando en binario (4 bits)\")\n",
    "sumando_2 = input(\"Segundo sumando en binario(4 bits)\")"
   ]
  },
  {
   "cell_type": "code",
   "execution_count": 15,
   "metadata": {},
   "outputs": [
    {
     "name": "stdout",
     "output_type": "stream",
     "text": [
      "[0, 0, 0, 0]\n"
     ]
    }
   ],
   "source": [
    "n = 4\n",
    "\n",
    "backend = CircuitDrawer()\n",
    "#ResourceCounter()\n",
    "eng = MainEngine(backend)\n",
    "#eng = MainEngine()\n",
    "\n",
    "a = eng.allocate_qureg(n)\n",
    "b = eng.allocate_qureg(n+1)\n",
    "c = eng.allocate_qureg(1)\n",
    "\n",
    "for i in range(n):\n",
    "    if sumando_1[i] == \"1\":\n",
    "        NOT | (a[n - (i+1)])\n",
    "for i in range(n):\n",
    "    if sumando_2[i] == \"1\":\n",
    "        NOT | (b[n - (i+1)])\n",
    "\n",
    "for i in range(1, n):\n",
    "    CNOT | (a[i], b[i])\n",
    "\n",
    "CNOT | (a[1], c[0])\n",
    "\n",
    "Toffoli | (a[0], b[0], c[0])\n",
    "CNOT | (a[2], a[1])\n",
    "\n",
    "Toffoli | (c[0], b[1], a[1])\n",
    "CNOT | a[3], a[2])\n",
    "\n",
    "for i in range(2, n-2):\n",
    "    qToffoli | (a[i-1], b[i], a[i])\n",
    "    CNOT | (a[i+2], a[i+1])\n",
    "\n",
    "Toffoli | (a[n-3], b[n-2], a[n-2])\n",
    "CNOT | (a[n-1], b[n])\n",
    "\n",
    "Toffoli | (a[n-2], b[n-1], b[n])\n",
    "for i in range(1, n-1):\n",
    "    NOT | (b[i])\n",
    "\n",
    "CNOT | (c[0], b[1])\n",
    "for i in range(2, n):\n",
    "    CNOT | (a[i-1], b[i])\n",
    "\n",
    "Toffoli | (a[n-3], b[n-2], a[n-2])\n",
    "\n",
    "for i in range(n-3,1,-1):\n",
    "    qc.ccx(a[i-1], b[i], a[i])\n",
    "    CNOT | (a[i+2], a[i+1])\n",
    "    NOT | (b[i+1])\n",
    "\n",
    "Toffoli | (c[0], b[1], a[1])\n",
    "CNOT | (a[3], a[2])\n",
    "NOT | (b[2])\n",
    "\n",
    "Toffoli | (a[0], b[0], c[0])\n",
    "CNOT | (a[2], a[1])\n",
    "NOT | (b[1])\n",
    "\n",
    "CNOT | (a[1], c[0])\n",
    "\n",
    "for i in range(n):\n",
    "    CNOT | (a[i], b[i])\n",
    "\n",
    "All(Measure) | b\n",
    "\n",
    "eng.flush()\n",
    "\n",
    "result = []\n",
    "for i in range(n):\n",
    "    result.append(int(b[i]))\n",
    "\n",
    "print(result)\n",
    "    "
   ]
  },
  {
   "cell_type": "code",
   "execution_count": null,
   "metadata": {},
   "outputs": [],
   "source": [
    "backend.get_latex()"
   ]
  }
 ],
 "metadata": {
  "kernelspec": {
   "display_name": "Python 3",
   "language": "python",
   "name": "python3"
  },
  "language_info": {
   "codemirror_mode": {
    "name": "ipython",
    "version": 3
   },
   "file_extension": ".py",
   "mimetype": "text/x-python",
   "name": "python",
   "nbconvert_exporter": "python",
   "pygments_lexer": "ipython3",
   "version": "3.7.4"
  }
 },
 "nbformat": 4,
 "nbformat_minor": 4
}